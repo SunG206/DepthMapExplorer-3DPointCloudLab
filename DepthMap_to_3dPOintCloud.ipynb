{
 "cells": [
  {
   "cell_type": "code",
   "execution_count": 2,
   "metadata": {},
   "outputs": [
    {
     "name": "stderr",
     "output_type": "stream",
     "text": [
      "/home/codespace/.python/current/lib/python3.10/site-packages/tqdm/auto.py:21: TqdmWarning: IProgress not found. Please update jupyter and ipywidgets. See https://ipywidgets.readthedocs.io/en/stable/user_install.html\n",
      "  from .autonotebook import tqdm as notebook_tqdm\n"
     ]
    }
   ],
   "source": [
    "import numpy as np\n",
    "import matplotlib.pyplot as plt\n",
    "# import mpl_toolkits.mplot3d.Axes3D\n",
    "from transformers import DPTImageProcessor, DPTForDepthEstimation\n",
    "import torch\n",
    "from PIL import Image\n",
    "import plotly.graph_objs as go\n",
    "\n"
   ]
  },
  {
   "cell_type": "code",
   "execution_count": 3,
   "metadata": {},
   "outputs": [
    {
     "name": "stderr",
     "output_type": "stream",
     "text": [
      "Some weights of DPTForDepthEstimation were not initialized from the model checkpoint at Intel/dpt-large and are newly initialized: ['neck.fusion_stage.layers.0.residual_layer1.convolution2.bias', 'neck.fusion_stage.layers.0.residual_layer1.convolution1.bias', 'neck.fusion_stage.layers.0.residual_layer1.convolution2.weight', 'neck.fusion_stage.layers.0.residual_layer1.convolution1.weight']\n",
      "You should probably TRAIN this model on a down-stream task to be able to use it for predictions and inference.\n"
     ]
    }
   ],
   "source": [
    "\n",
    "# Load the image from the URL\n",
    "url = \"/workspaces/DepthMapExplorer-3DPointCloudLab/Images/e4360037-800px-wm.jpg\"\n",
    "image = Image.open(url)\n",
    "\n",
    "# Initialize the DPT model\n",
    "processor = DPTImageProcessor.from_pretrained(\"Intel/dpt-large\")\n",
    "model = DPTForDepthEstimation.from_pretrained(\"Intel/dpt-large\")\n"
   ]
  },
  {
   "cell_type": "code",
   "execution_count": 4,
   "metadata": {},
   "outputs": [],
   "source": [
    "\n",
    "inputs = processor(images=image, return_tensors=\"pt\")\n",
    "\n",
    "# Model inference\n",
    "with torch.no_grad():\n",
    "    outputs = model(**inputs)\n",
    "    predicted_depth = outputs.predicted_depth\n",
    "\n",
    "# Interpolate to original size\n",
    "prediction = torch.nn.functional.interpolate(\n",
    "    predicted_depth.unsqueeze(1),\n",
    "    size=image.size[::-1],\n",
    "    mode=\"bicubic\",\n",
    "    align_corners=False,\n",
    ")\n",
    "\n",
    "# numpy array and normalize\n",
    "depth_map = prediction.squeeze().cpu().numpy()\n",
    "depth_map = (depth_map * 255 / np.max(depth_map)).astype(\"uint8\")\n"
   ]
  },
  {
   "cell_type": "code",
   "execution_count": 5,
   "metadata": {},
   "outputs": [],
   "source": [
    "\n",
    "image_np = np.array(image)\n",
    "\n",
    "# Parameters\n",
    "height, width = depth_map.shape\n",
    "fx, fy = 525.0, 525.0  # Focal length\n",
    "cx, cy = width / 2, height / 2  # Optical center\n",
    "\n",
    "\n",
    "points = []\n",
    "colors = []\n"
   ]
  },
  {
   "cell_type": "code",
   "execution_count": 6,
   "metadata": {},
   "outputs": [],
   "source": [
    "\n",
    "for v in range(height):\n",
    "    for u in range(width):\n",
    "        Z = depth_map[v, u]\n",
    "        if Z == 0: continue  # Skip zero depth values\n",
    "        X = (u - cx) * Z / fx\n",
    "        Y = (v - cy) * Z / fy\n",
    "        points.append([X, Y, Z])\n",
    "        colors.append('rgb({},{},{})'.format(*image_np[v, u]))  # Convert to RGB string\n",
    "\n",
    "points = np.array(points)\n",
    "\n",
    "\n",
    "trace = go.Scatter3d(\n",
    "    x=points[:, 0],\n",
    "    y=points[:, 1],\n",
    "    z=points[:, 2],\n",
    "    mode='markers',\n",
    "    marker=dict(\n",
    "        size=1,\n",
    "        color=colors,  # Set color to the RGB values\n",
    "    )\n",
    ")\n",
    "\n",
    "\n",
    "data = [trace]\n",
    "\n",
    "# Layout for 3D plot\n",
    "layout = go.Layout(\n",
    "    margin=dict(l=0, r=0, b=0, t=0)\n",
    ")\n",
    "\n",
    "fig = go.Figure(data=data, layout=layout)\n",
    "fig.write_html(\"3d_plot.html\")\n"
   ]
  },
  {
   "cell_type": "code",
   "execution_count": null,
   "metadata": {},
   "outputs": [],
   "source": []
  }
 ],
 "metadata": {
  "kernelspec": {
   "display_name": "Python 3",
   "language": "python",
   "name": "python3"
  },
  "language_info": {
   "codemirror_mode": {
    "name": "ipython",
    "version": 3
   },
   "file_extension": ".py",
   "mimetype": "text/x-python",
   "name": "python",
   "nbconvert_exporter": "python",
   "pygments_lexer": "ipython3",
   "version": "3.10.13"
  }
 },
 "nbformat": 4,
 "nbformat_minor": 2
}
